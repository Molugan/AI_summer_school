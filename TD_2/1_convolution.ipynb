{
 "cells": [
  {
   "cell_type": "markdown",
   "metadata": {},
   "source": [
    "# TD2 classification d'image: des convolutions !\n",
    "\n",
    "Dans ce TD nous allons voir comment l'image perçue évolue au fil des opérations effectuées par VGG. "
   ]
  },
  {
   "cell_type": "code",
   "execution_count": 3,
   "metadata": {},
   "outputs": [],
   "source": [
    "# Commençon par importer pytorch\n",
    "import torch\n",
    "import torchvision"
   ]
  },
  {
   "cell_type": "markdown",
   "metadata": {},
   "source": [
    "## Revenons à nos convolutions\n",
    "\n",
    "Lors du premier TD nous avons défini des conviolutions de la manière suivante:"
   ]
  },
  {
   "cell_type": "code",
   "execution_count": null,
   "metadata": {},
   "outputs": [],
   "source": [
    "convolution = torch.nn.Conv2d(1,  # Nombre de canaux dans l'image d'entrée\n",
    "                              1,  # Nombre de canaux dans l'image de sortie\n",
    "                              3,  # Taille du noyau de comvolution\n",
    "                             padding=1)"
   ]
  },
  {
   "cell_type": "markdown",
   "metadata": {},
   "source": [
    "Pour définir une convolution il faut au moins 3 paramètres:\n",
    "- C_in : le nombres de canaux dans l'image d'entrée\n",
    "- C_out : le nombres de canaux dans l'image de sortie\n",
    "- kernel_size : la taille du noyau de convolution\n",
    "\n",
    "En plus de ça il est possible de donner des paramètres optionels:\n",
    "- padding : le nombre de zéros à ajouter au bord de l'image lors de la convolution. Par défaut, la valeur du padding vaut 0\n",
    "- stride : pas à faire lors de la convolution\n",
    "\n",
    "Voici une très bonne animation produite par Vincent Dumoulin et Francesco Visin (https://github.com/vdumoulin/conv_arithmetic/blob/master/README.md), qui illustre comment ces deux concepts fonctionnent:\n",
    "\n",
    "<table style=\"width:100%; table-layout:fixed;\">\n",
    "  <tr>\n",
    "    <td><img width=\"150px\" src=\"no_padding_no_strides.gif\"></td>\n",
    "    <td><img width=\"150px\" src=\"arbitrary_padding_no_strides.gif\"></td>\n",
    "    <td><img width=\"150px\" src=\"no_padding_strides.gif\"></td>\n",
    "    <td><img width=\"150px\" src=\"padding_strides.gif\"></td>\n",
    "  </tr>\n",
    "  <tr>\n",
    "    <td>padding =0 , stride=1</td>\n",
    "    <td>padding =2, stride=1</td>\n",
    "    <td>padding =0, stride=2</td>\n",
    "    <td>padding =1, stride=2</td>\n",
    "  </tr>\n",
    "</table>\n"
   ]
  },
  {
   "cell_type": "markdown",
   "metadata": {},
   "source": [
    "## Exercice 1 :\n",
    "Définisser une convolution conv1 qui prend une image d'entrée avec 12 canaux, ressort une image avec 30 canaux et a un noyau de taille 7."
   ]
  },
  {
   "cell_type": "code",
   "execution_count": null,
   "metadata": {},
   "outputs": [],
   "source": [
    "conv1 = # Votre code ici"
   ]
  },
  {
   "cell_type": "markdown",
   "metadata": {},
   "source": [
    "Nous allons à présent définir un tensor I."
   ]
  },
  {
   "cell_type": "code",
   "execution_count": 6,
   "metadata": {},
   "outputs": [],
   "source": [
    "I = torch.randn(5, 12, 224, 224)"
   ]
  },
  {
   "cell_type": "markdown",
   "metadata": {},
   "source": [
    "En considérant que nous travaillons toujours au format N x C x L x H. Combien d'images y-a-t-il dans le batch I ? Quel est le nombre de canaux pour chaque image ?\n",
    "\n",
    "Appliquez conv1 à I. Que remarquez vous sur la taille de l'image de sortie ?"
   ]
  },
  {
   "cell_type": "code",
   "execution_count": 8,
   "metadata": {},
   "outputs": [
    {
     "name": "stdout",
     "output_type": "stream",
     "text": [
      "torch.Size([5, 30, 218, 218])\n"
     ]
    }
   ],
   "source": [
    "conv1 = torch.nn.Conv2d(12, 30, 7)\n",
    "output = conv1(I)\n",
    "print(output.size())"
   ]
  },
  {
   "cell_type": "markdown",
   "metadata": {},
   "source": [
    "Modifiez la valeur du padding de conv1 de maniere à ce que l'image de sortie ait les mêmes valeurs L, H que l'image d'entrée."
   ]
  },
  {
   "cell_type": "code",
   "execution_count": null,
   "metadata": {},
   "outputs": [],
   "source": []
  }
 ],
 "metadata": {
  "kernelspec": {
   "display_name": "Python 3",
   "language": "python",
   "name": "python3"
  },
  "language_info": {
   "codemirror_mode": {
    "name": "ipython",
    "version": 3
   },
   "file_extension": ".py",
   "mimetype": "text/x-python",
   "name": "python",
   "nbconvert_exporter": "python",
   "pygments_lexer": "ipython3",
   "version": "3.7.5"
  }
 },
 "nbformat": 4,
 "nbformat_minor": 2
}
