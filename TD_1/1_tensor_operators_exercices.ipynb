{
 "cells": [
  {
   "cell_type": "markdown",
   "metadata": {},
   "source": [
    "# TD1 : découverte de pytorch\n",
    "\n",
    "Ce TD a pour but d'appendre la prise en main de pytorch. Il s'agit d'une compilation de petits exercices pour se familiariser avec cette librairie."
   ]
  },
  {
   "cell_type": "code",
   "execution_count": null,
   "metadata": {},
   "outputs": [],
   "source": [
    "# Commençons par importer les librairies dont nous aurons besoin\n",
    "import torch"
   ]
  },
  {
   "cell_type": "markdown",
   "metadata": {},
   "source": [
    "En python, les fonctions se définissent ansi:\n",
    "def nom_de_la_fonction( arguments de la fonction):\n",
    "    commande 1\n",
    "    commande 2\n",
    "    return La valeur retournée par la fonction\n",
    "    \n",
    "Par exemple, la fonction suivante fait la somme de x et y:"
   ]
  },
  {
   "cell_type": "code",
   "execution_count": null,
   "metadata": {},
   "outputs": [],
   "source": [
    "def sum_x_y(x, y):\n",
    "    return x + y\n",
    "\n",
    "# Vous pouvez testez vos fonctions !\n",
    "x = torch.randn((2,2))\n",
    "y = torch.randn((2,2))\n",
    "print(sum_x_y(x, y))"
   ]
  },
  {
   "cell_type": "markdown",
   "metadata": {},
   "source": [
    "## Exercice 1: \n",
    "Définissez une fonction \"norme\" qui donne la norme L2 du tensor x"
   ]
  },
  {
   "cell_type": "code",
   "execution_count": null,
   "metadata": {},
   "outputs": [],
   "source": [
    "def norm(x):\n",
    "    r\"\"\"\n",
    "    Argument :\n",
    "        x un tenseur de taille arbitraire\n",
    "    Remvoie:\n",
    "        sqrt(sum (x_i * x_i)) où x_i sont les éléments de x\n",
    "    \"\"\"\n",
    "    # Votre code ici\n",
    "    return"
   ]
  },
  {
   "cell_type": "markdown",
   "metadata": {},
   "source": [
    "Maintenant considérons une série de K vecteurs de dimension D. La manière standard de représenter ces données est par un tensor de dimension K x D. Définissez une fonction qui prend en entrée un tel tensor X et retourne un vecteur de dimension K, contenant la norme L2 des K \"sous-vecteurs\" de X"
   ]
  },
  {
   "cell_type": "code",
   "execution_count": null,
   "metadata": {},
   "outputs": [],
   "source": [
    "def partial_norm(x):\n",
    "    r\"\"\"\n",
    "    Argument :\n",
    "        X un tensor de taille K x D\n",
    "    Renvoie:\n",
    "        un tensor Nx de taille K tel que Nx[i] = sqrt(sum(X[i, j] * X[i, j]))\n",
    "    \"\"\"\n",
    "    # Votre code ici\n",
    "    return"
   ]
  },
  {
   "cell_type": "markdown",
   "metadata": {},
   "source": [
    "## Exercice 2: \n",
    "Nous allons à présent définir un filtre très souvent utilisé en deep learning: instanceNorm. Cette fois-ci nous ne considérons plus des vecteurs mais des séquences de vecteurs. Nous avons donc N séquences, chacunes contenant S vecteurs de dimension D. On peut donc stocker ces données dans un tensor de dimension N x S x D  !\n",
    "\n",
    "La première dimension est appelée le batch, la deuxième est le temps, et la troisième le cannal.\n",
    "Nous voulons donc calculer pour chaque séquence x, le vecteur moyen x_mu (de dimension D) x sur l'ensemble de ses S vecteurs ainsi que sa variance x_sigma (de dimension D) sur chacune de ses dimension.\n",
    "\n",
    "Commencez par écrire les fonctions permettant de calculer x_mu et x_sigma"
   ]
  },
  {
   "cell_type": "code",
   "execution_count": null,
   "metadata": {},
   "outputs": [],
   "source": [
    "def get_mean_on_seq(batch):\n",
    "    r\"\"\"\n",
    "    Argument :\n",
    "        batch : un tensor de taille N x S x D\n",
    "    Renvoie:\n",
    "        Un tensor mu de dimension N x D telle que mu[n, d] = moyenne_{s}(x[n, s, d])\n",
    "    \"\"\"\n",
    "    # Votre code ici: x_mu\n",
    "    return\n",
    "\n",
    "def get_var_seq(batch):\n",
    "    r\"\"\"\n",
    "    Argument :\n",
    "        batch : un tensor de taille N x S x D\n",
    "    Renvoie:\n",
    "        Un tensor sigma de dimension N x D telle que sigma[n, d] = variance_{s}(x[n, s, d])\n",
    "    \"\"\"\n",
    "    # Votre code ici: x_mu\n",
    "    return"
   ]
  },
  {
   "cell_type": "markdown",
   "metadata": {},
   "source": [
    "Nous voulons à présent que chaque séquence x ait une moyenne nulle et une variance 1. \n",
    "\n",
    "En d'autres termes nous voulons calculer : x - x_mu / sqrt(epsilon + x_sigma).\n",
    "\n",
    "Epsilon est une petite valeur positive pour éviter de diviser par zero: on peut prendre par exemple epsilon = 1e-8\n",
    "\n",
    "Pour éviter d'avoir une erreur, ajoutez le paramètre keepdim=True dans la methode sum()"
   ]
  },
  {
   "cell_type": "code",
   "execution_count": null,
   "metadata": {},
   "outputs": [],
   "source": [
    "# Utilisation du paramètre keepdim\n",
    "x = torch.randn((2,5))\n",
    "print(x)\n",
    "print(x.sum(dim=1, keepdim=True))"
   ]
  },
  {
   "cell_type": "code",
   "execution_count": null,
   "metadata": {},
   "outputs": [],
   "source": [
    "def instance_norm(batch):\n",
    "    r\"\"\"\n",
    "    Argument :\n",
    "        batch : un tensor de taille N x S x D\n",
    "    Renvoie:\n",
    "        Un tensor norm_batch de taille NxSxD tel que\n",
    "        norm_batch[n, s, d] = batch[n,s,d] - mu[n, d] / sqrt(epsilon + sigma[n, d])\n",
    "    \"\"\"\n",
    "    # Votre code ici\n",
    "    return"
   ]
  },
  {
   "cell_type": "markdown",
   "metadata": {},
   "source": [
    "## Exercice 3:\n",
    "Maintenant définissez batch_norm ! Il s'agit d'une méthode très similaire à instance_norm sauf que l'on moyenne non seulement dans le temps mais aussi sur l'ensemble des séquences du batch.\n",
    "Cette fois-ci, utilisez les méthodes .mean() et .var() disponibles avecpytorch. Elles s'utilisent de la même manière que .sum()"
   ]
  },
  {
   "cell_type": "code",
   "execution_count": null,
   "metadata": {},
   "outputs": [],
   "source": [
    "def batch_norm(x):\n",
    "    r\"\"\"\n",
    "    Argument :\n",
    "        batch : un tensor de taille N x S x D\n",
    "    Renvoie:\n",
    "        Un tensor norm_batch de taille NxSxD tel que\n",
    "        norm_batch[n, s, d] = batch[n,s,d] - mu[d] / sqrt(epsilon + sigma[d])\n",
    "    \"\"\"\n",
    "    # Votre code ici\n",
    "    return"
   ]
  },
  {
   "cell_type": "markdown",
   "metadata": {},
   "source": [
    "## Bonus : K-MEANS\n",
    "\n",
    "L'algorithme de K-MEAN est une méthode assez connue pour partitionner des vecteurs https://fr.wikipedia.org/wiki/K-moyennes\n",
    "Et avec des tensors pytorch, vous n'avez besoin que de 4 lignes pour écrire cet algorithme.\n",
    "\n",
    "Indices:\n",
    "1) Vous aurez besoin de la methode .min() qui peut s'utiliser comme sum()\n",
    "2) si x est de dimension NxS et y est de dimension N alors x[y>0] vous donnera toutes les séquences de xi (de dimension S) de telles que yi > 0"
   ]
  },
  {
   "cell_type": "code",
   "execution_count": null,
   "metadata": {},
   "outputs": [],
   "source": [
    "def kMEANS(x, k, n_iterations):\n",
    "    r\"\"\"\n",
    "    Argument :\n",
    "        x : un tensor de taille N x S\n",
    "        k : nombre de clusters à calculer\n",
    "        n_iterations : nombre maximal d'iterations\n",
    "    Renvoie:\n",
    "        k clusters\n",
    "    \"\"\"\n",
    "    # Votre code ici\n",
    "    return"
   ]
  }
 ],
 "metadata": {
  "kernelspec": {
   "display_name": "Python 3",
   "language": "python",
   "name": "python3"
  },
  "language_info": {
   "codemirror_mode": {
    "name": "ipython",
    "version": 3
   },
   "file_extension": ".py",
   "mimetype": "text/x-python",
   "name": "python",
   "nbconvert_exporter": "python",
   "pygments_lexer": "ipython3",
   "version": "3.7.5"
  }
 },
 "nbformat": 4,
 "nbformat_minor": 2
}
