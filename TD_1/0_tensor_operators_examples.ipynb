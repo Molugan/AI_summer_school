{
 "cells": [
  {
   "cell_type": "markdown",
   "metadata": {},
   "source": [
    "# TD1 : Introduction, exemples d'opérations sur les torch.tensor\n",
    "\n",
    "Dans pytorch, les données sont organisées sous forme de tensor. Un tenseur est un tableau (ou vecteur) de nombres. Dans les lignes qui vont suivres, nous allons présenter une série d'exemples d'opeérations pouvant être faites avec pytorch."
   ]
  },
  {
   "cell_type": "code",
   "execution_count": 1,
   "metadata": {},
   "outputs": [],
   "source": [
    "# Tout d'abord, importer torch\n",
    "import torch"
   ]
  },
  {
   "cell_type": "code",
   "execution_count": 2,
   "metadata": {},
   "outputs": [
    {
     "name": "stdout",
     "output_type": "stream",
     "text": [
      "tensor([[4.1760e+21, 1.2812e-11, 3.3608e+21],\n",
      "        [1.6995e-04, 2.7444e-06, 1.0081e-08]])\n"
     ]
    }
   ],
   "source": [
    "# Construire un tensor vide de dimension 2x3\n",
    "x = torch.empty(2, 3)\n",
    "print(x)"
   ]
  },
  {
   "cell_type": "code",
   "execution_count": 3,
   "metadata": {},
   "outputs": [
    {
     "name": "stdout",
     "output_type": "stream",
     "text": [
      "tensor([[0.2859, 0.4895, 0.9559],\n",
      "        [0.2774, 0.5200, 0.8233],\n",
      "        [0.6265, 0.5485, 0.3258]])\n"
     ]
    }
   ],
   "source": [
    "# Construire un tensor de valeurs aléatoires\n",
    "x = torch.rand(3, 3)\n",
    "print(x)"
   ]
  },
  {
   "cell_type": "code",
   "execution_count": 4,
   "metadata": {},
   "outputs": [
    {
     "name": "stdout",
     "output_type": "stream",
     "text": [
      "tensor([[0., 0., 0.],\n",
      "        [0., 0., 0.],\n",
      "        [0., 0., 0.],\n",
      "        [0., 0., 0.],\n",
      "        [0., 0., 0.]])\n"
     ]
    }
   ],
   "source": [
    "# Construire un tensor de zéros\n",
    "x = torch.zeros(5, 3)\n",
    "print(x)"
   ]
  },
  {
   "cell_type": "code",
   "execution_count": 5,
   "metadata": {},
   "outputs": [
    {
     "name": "stdout",
     "output_type": "stream",
     "text": [
      "tensor([[1, 2],\n",
      "        [3, 4]])\n",
      "torch.Size([2, 2])\n"
     ]
    }
   ],
   "source": [
    "# Construire un tensor avec des valeurs pré-définies\n",
    "x = torch.tensor([[1,2],[3,4]])\n",
    "print(x)\n",
    "print(x.size())"
   ]
  },
  {
   "cell_type": "markdown",
   "metadata": {},
   "source": [
    "Les tensors s'utilisent comme des vecteurs"
   ]
  },
  {
   "cell_type": "code",
   "execution_count": 6,
   "metadata": {},
   "outputs": [
    {
     "name": "stdout",
     "output_type": "stream",
     "text": [
      "tensor([[-0.0020, -0.1670,  0.8460],\n",
      "        [-0.7697, -1.4612, -1.1267]])\n",
      "tensor([[ 0.1891,  1.4344, -0.8287],\n",
      "        [-0.9102,  1.5548, -0.8269]])\n"
     ]
    }
   ],
   "source": [
    "x = torch.randn(2, 3)\n",
    "y = torch.randn(2, 3)\n",
    "print(x)\n",
    "print(y)"
   ]
  },
  {
   "cell_type": "code",
   "execution_count": 7,
   "metadata": {},
   "outputs": [
    {
     "name": "stdout",
     "output_type": "stream",
     "text": [
      "tensor([[ 0.1871,  1.2674,  0.0173],\n",
      "        [-1.6799,  0.0937, -1.9536]])\n"
     ]
    }
   ],
   "source": [
    "# Addition terme à terme\n",
    "print(x+y)"
   ]
  },
  {
   "cell_type": "code",
   "execution_count": 8,
   "metadata": {},
   "outputs": [
    {
     "name": "stdout",
     "output_type": "stream",
     "text": [
      "tensor([[-3.6977e-04, -2.3948e-01, -7.0102e-01],\n",
      "        [ 7.0055e-01, -2.2718e+00,  9.3170e-01]])\n"
     ]
    }
   ],
   "source": [
    "# Multiplication terme à terme\n",
    "print(x*y)"
   ]
  },
  {
   "cell_type": "code",
   "execution_count": 9,
   "metadata": {},
   "outputs": [
    {
     "name": "stdout",
     "output_type": "stream",
     "text": [
      "tensor([[-0.0039, -0.3339,  1.6919],\n",
      "        [-1.5393, -2.9223, -2.2535]])\n"
     ]
    }
   ],
   "source": [
    "# Multiplication par un nombre réel\n",
    "print(2 * x)"
   ]
  },
  {
   "cell_type": "code",
   "execution_count": 10,
   "metadata": {},
   "outputs": [
    {
     "name": "stdout",
     "output_type": "stream",
     "text": [
      "tensor([[ 0.9980,  0.8330,  1.8460],\n",
      "        [ 0.2303, -0.4612, -0.1267]])\n"
     ]
    }
   ],
   "source": [
    "# Addition avec un nombre réel\n",
    "print(x+1)"
   ]
  },
  {
   "cell_type": "markdown",
   "metadata": {},
   "source": [
    "Il y a différentes façon d'accéder aux valeurs d'un tensor"
   ]
  },
  {
   "cell_type": "code",
   "execution_count": 11,
   "metadata": {},
   "outputs": [
    {
     "name": "stdout",
     "output_type": "stream",
     "text": [
      "tensor(-0.1670)\n",
      "tensor([-0.0020, -0.1670,  0.8460])\n",
      "tensor([ 0.8460, -1.1267])\n"
     ]
    }
   ],
   "source": [
    "# Obtient le nombre aux coordonnées [0,1] \n",
    "print(x[0,1])\n",
    "\n",
    "# Obtient la première ligne de x\n",
    "print(x[0])\n",
    "\n",
    "# Obtient la troisième colonne de x\n",
    "print(x[:, 2])"
   ]
  },
  {
   "cell_type": "markdown",
   "metadata": {},
   "source": [
    "Vous pouvez même aller plus loin et accédez aux valeurs d'un tenseurs respectant certaines conditions"
   ]
  },
  {
   "cell_type": "code",
   "execution_count": 12,
   "metadata": {},
   "outputs": [
    {
     "name": "stdout",
     "output_type": "stream",
     "text": [
      "tensor([0.8460])\n",
      "y là où x > 0\n",
      "tensor([-0.8287])\n"
     ]
    }
   ],
   "source": [
    "print(x[x > 0])\n",
    "\n",
    "print(\"y là où x > 0\")\n",
    "print(y[x > 0])"
   ]
  },
  {
   "cell_type": "markdown",
   "metadata": {},
   "source": [
    "Il existe aussi plein de méthodes sur les tensors.\n",
    "\n",
    "Par exmple la somme: regarder les différences entre ces trois commandes"
   ]
  },
  {
   "cell_type": "code",
   "execution_count": 13,
   "metadata": {},
   "outputs": [
    {
     "name": "stdout",
     "output_type": "stream",
     "text": [
      "Sum\n",
      "tensor(-2.6805)\n",
      "tensor([-0.7716, -1.6281, -0.2808])\n",
      "tensor([ 0.6770, -3.3576])\n",
      "tensor([[ 0.6770],\n",
      "        [-3.3576]])\n"
     ]
    }
   ],
   "source": [
    "print(\"Sum\")\n",
    "print(x.sum()) # Somme tous les éléments de x\n",
    "print(x.sum(dim=0)) # Somme uniquement sur la première dimension\n",
    "print(x.sum(dim=1)) # Somme uniquement sur la deuxième dimension\n",
    "print(x.sum(dim=1, keepdim=True)) # Somme uniquement sur la deuxième dimension"
   ]
  },
  {
   "cell_type": "code",
   "execution_count": null,
   "metadata": {},
   "outputs": [],
   "source": []
  }
 ],
 "metadata": {
  "kernelspec": {
   "display_name": "Python 3",
   "language": "python",
   "name": "python3"
  },
  "language_info": {
   "codemirror_mode": {
    "name": "ipython",
    "version": 3
   },
   "file_extension": ".py",
   "mimetype": "text/x-python",
   "name": "python",
   "nbconvert_exporter": "python",
   "pygments_lexer": "ipython3",
   "version": "3.7.5"
  }
 },
 "nbformat": 4,
 "nbformat_minor": 2
}
